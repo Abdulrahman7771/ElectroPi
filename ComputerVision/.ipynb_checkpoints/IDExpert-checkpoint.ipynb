{
 "cells": [
  {
   "cell_type": "code",
   "execution_count": 1,
   "id": "6f71cb71-da4b-4c26-9b90-37d8a610a10e",
   "metadata": {
    "tags": []
   },
   "outputs": [],
   "source": [
    "import pandas as pd\n",
    "import cv2\n",
    "import numpy as np\n",
    "from os.path import exists    \n",
    "import matplotlib.pyplot as plt\n",
    "import pytesseract"
   ]
  },
  {
   "cell_type": "code",
   "execution_count": 2,
   "id": "acbc6879-7f8c-4fb3-b8ed-ac129cf11f0f",
   "metadata": {
    "tags": []
   },
   "outputs": [],
   "source": [
    "pd.set_option('display.max_columns', None)\n",
    "pd.set_option(\"colheader_justify\", \"right\")"
   ]
  },
  {
   "cell_type": "code",
   "execution_count": 1,
   "id": "89e290c9-7243-43ca-a3f0-c737d3e46258",
   "metadata": {
    "tags": []
   },
   "outputs": [],
   "source": [
    "def ReadingFile():\n",
    "    print(\"Please enter a good quality photo of your ID\")\n",
    "    read = False\n",
    "    path = input(r\"Please enter the path of the ID: \")\n",
    "    path = CheckExistence(path)\n",
    "    while(not read):\n",
    "        extension = path.split(\".\")[-1]\n",
    "        if(extension in [\"bmp\",\"jpg\",\"jp2\",\"png\",\"webp\",\"jpeg\",\"pbm\",\"pgm\"]):\n",
    "            img = cv2.imread(path)\n",
    "            read = True\n",
    "            return (img)\n",
    "        else:\n",
    "            path = input(r\"Please enter a valid image file path: \")\n",
    "            path = CheckExistence(path)\n",
    "def CheckExistence(path):\n",
    "    while(not exists(path)):\n",
    "        path = input(r\"Please enter a valid file path like Drive:\\folder1\\folder2\\example.jpg: \")\n",
    "    return path"
   ]
  },
  {
   "cell_type": "code",
   "execution_count": null,
   "id": "dab217a7-e8e2-4e0f-8cbf-a2a97f9920a6",
   "metadata": {
    "tags": []
   },
   "outputs": [
    {
     "name": "stdout",
     "output_type": "stream",
     "text": [
      "Please enter a good quality photo of your ID\n"
     ]
    }
   ],
   "source": [
    "img = ReadingFile()"
   ]
  },
  {
   "cell_type": "code",
   "execution_count": null,
   "id": "fbdb70de-a262-4692-b808-3ccfd595a2a4",
   "metadata": {
    "tags": []
   },
   "outputs": [],
   "source": [
    "gray = cv2.cvtColor(img, cv2.COLOR_BGR2GRAY)\n",
    "kernel = np.ones((2,2))\n",
    "\n",
    "ret, thresh = cv2.threshold(gray\n",
    "                            , 127, 255\n",
    "                            ,  cv2.THRESH_BINARY)"
   ]
  },
  {
   "cell_type": "code",
   "execution_count": null,
   "id": "c7958177-58fb-442a-b140-ef77d9358b6b",
   "metadata": {
    "tags": []
   },
   "outputs": [],
   "source": [
    "laplacian = cv2.Laplacian(thresh, -1,ksize=7)\n",
    "OLaplacian =laplacian\n",
    "laplacian = laplacian[:laplacian.shape[0]-int(laplacian.shape[1]/6), int(laplacian.shape[1]/3):laplacian.shape[1]]"
   ]
  },
  {
   "cell_type": "code",
   "execution_count": null,
   "id": "2168c74e-d361-469e-b6d6-fdf8217ef414",
   "metadata": {
    "tags": []
   },
   "outputs": [],
   "source": [
    "rgb = cv2.cvtColor(laplacian, cv2.COLOR_BGR2RGB)\n",
    "plt.imshow(rgb)\n",
    "plt.show()"
   ]
  },
  {
   "cell_type": "code",
   "execution_count": null,
   "id": "0ec1e563-8837-41b9-b0c7-52bd39d7270d",
   "metadata": {
    "tags": []
   },
   "outputs": [],
   "source": [
    "pytesseract.pytesseract.tesseract_cmd = r\"C:\\Program Files\\Tesseract-OCR\\tesseract.exe\"\n",
    "result = pytesseract.image_to_string(laplacian,lang=\"ara\")"
   ]
  },
  {
   "cell_type": "code",
   "execution_count": null,
   "id": "7f8d1197-31f1-466a-9bd1-4bb1d37edb4e",
   "metadata": {
    "tags": []
   },
   "outputs": [],
   "source": [
    "laplacian = OLaplacian[OLaplacian.shape[0]-int(OLaplacian.shape[0]/3):OLaplacian.shape[0],int(OLaplacian.shape[1]/3):OLaplacian.shape[1]]\n"
   ]
  },
  {
   "cell_type": "code",
   "execution_count": null,
   "id": "9db6fe6b-b2b8-4e7b-a695-47a7dcfc4546",
   "metadata": {
    "tags": []
   },
   "outputs": [],
   "source": [
    "numres = pytesseract.image_to_string(laplacian\n",
    "                                     ,lang=\"aranumberLayer2\")"
   ]
  },
  {
   "cell_type": "code",
   "execution_count": null,
   "id": "166a2f9a-8c9a-4c71-a7c2-abe64664e580",
   "metadata": {
    "tags": []
   },
   "outputs": [],
   "source": [
    "num, slash = numres.split(\"\\n\")\n",
    "\n",
    "info = []\n",
    "\n",
    "i=0\n",
    "\n",
    "for word in result.split(\"\\n\"):\n",
    "    if(word != \"\"):\n",
    "        info.append(word)\n",
    "        i=i+1\n",
    "\n",
    "data = {\"الاسم الاول\":info[0],\"باقى الاسم\":info[1]}\n",
    "\n",
    "for i in range(2,len(info)):\n",
    "    add = info[i]\n",
    "    data.update({f\"العنوان {i-1}\": [add]})\n",
    "    \n",
    "data.update({\"الرقم القومي\":num})"
   ]
  },
  {
   "cell_type": "code",
   "execution_count": null,
   "id": "dc97c99d-a32f-448d-99e8-592e0be191b4",
   "metadata": {
    "tags": []
   },
   "outputs": [],
   "source": [
    "df = pd.DataFrame.from_dict(data)\n",
    "df.style.set_table_attributes('style=\"font-size: 20px\"')"
   ]
  }
 ],
 "metadata": {
  "kernelspec": {
   "display_name": "Python 3 (ipykernel)",
   "language": "python",
   "name": "python3"
  },
  "language_info": {
   "codemirror_mode": {
    "name": "ipython",
    "version": 3
   },
   "file_extension": ".py",
   "mimetype": "text/x-python",
   "name": "python",
   "nbconvert_exporter": "python",
   "pygments_lexer": "ipython3",
   "version": "3.11.3"
  }
 },
 "nbformat": 4,
 "nbformat_minor": 5
}
