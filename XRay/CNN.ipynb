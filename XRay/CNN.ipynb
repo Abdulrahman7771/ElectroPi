{
 "cells": [
  {
   "cell_type": "code",
   "execution_count": 169,
   "metadata": {},
   "outputs": [],
   "source": [
    "import pandas as pd\n",
    "import numpy as np\n",
    "import matplotlib.pyplot as plt\n",
    "import os\n",
    "import tensorflow as tf\n",
    "from keras.preprocessing.image import load_img\n",
    "from sklearn.model_selection import train_test_split\n",
    "from keras.preprocessing.image import ImageDataGenerator\n",
    "from keras import Sequential\n",
    "from keras.layers import  Conv2D,MaxPool2D,Flatten,Dense, Dropout\n",
    "from keras.optimizers import Adam\n",
    "from keras.layers import Input, Dense\n",
    "from keras.models import load_model\n",
    "from keras.preprocessing import image"
   ]
  },
  {
   "cell_type": "code",
   "execution_count": 170,
   "metadata": {},
   "outputs": [
    {
     "name": "stdout",
     "output_type": "stream",
     "text": [
      "{0: 'PNEUMONIA', 1: 'NORMAL'}\n"
     ]
    }
   ],
   "source": [
    "TrainInputPath = []\n",
    "TrainLabel = []\n",
    "TestInputPath = []\n",
    "TestLabel = []\n",
    "ValInputPath = []\n",
    "ValLabel = []\n",
    "sourceFileDir = os.path.dirname(os.path.abspath(\"__file__\"))\n",
    "Rays = {}\n",
    "\n",
    "for DType in os.listdir(os.path.join(sourceFileDir,\"XRays\")):\n",
    "        i = 0\n",
    "        for Class in os.listdir(os.path.join(sourceFileDir,\"XRays\",DType)):\n",
    "            for path in os.listdir(os.path.join(sourceFileDir, \"XRays\", DType, Class)):\n",
    "                if DType==\"train\":\n",
    "                    TrainLabel.append(i)\n",
    "                    TrainInputPath.append(os.path.join(\"XRays\", DType, Class, path))\n",
    "                elif DType==\"val\":\n",
    "                    ValLabel.append(i)\n",
    "                    ValInputPath.append(os.path.join(\"XRays\", DType, Class, path))\n",
    "                else:\n",
    "                    TestLabel.append(i)\n",
    "                    TestInputPath.append(os.path.join(\"XRays\", DType, Class, path))\n",
    "            Rays.update({i:Class})\n",
    "            i+=1\n",
    "            \n",
    "print(Rays)"
   ]
  },
  {
   "cell_type": "code",
   "execution_count": 171,
   "metadata": {},
   "outputs": [
    {
     "data": {
      "text/html": [
       "<div>\n",
       "<style scoped>\n",
       "    .dataframe tbody tr th:only-of-type {\n",
       "        vertical-align: middle;\n",
       "    }\n",
       "\n",
       "    .dataframe tbody tr th {\n",
       "        vertical-align: top;\n",
       "    }\n",
       "\n",
       "    .dataframe thead th {\n",
       "        text-align: right;\n",
       "    }\n",
       "</style>\n",
       "<table border=\"1\" class=\"dataframe\">\n",
       "  <thead>\n",
       "    <tr style=\"text-align: right;\">\n",
       "      <th></th>\n",
       "      <th>images</th>\n",
       "      <th>label</th>\n",
       "    </tr>\n",
       "  </thead>\n",
       "  <tbody>\n",
       "    <tr>\n",
       "      <th>0</th>\n",
       "      <td>XRays/train/NORMAL/IM-0697-0001.jpeg</td>\n",
       "      <td>1</td>\n",
       "    </tr>\n",
       "    <tr>\n",
       "      <th>1</th>\n",
       "      <td>XRays/train/NORMAL/NORMAL2-IM-0875-0001.jpeg</td>\n",
       "      <td>1</td>\n",
       "    </tr>\n",
       "    <tr>\n",
       "      <th>2</th>\n",
       "      <td>XRays/train/PNEUMONIA/person898_bacteria_2823....</td>\n",
       "      <td>0</td>\n",
       "    </tr>\n",
       "    <tr>\n",
       "      <th>3</th>\n",
       "      <td>XRays/train/NORMAL/NORMAL2-IM-1401-0001.jpeg</td>\n",
       "      <td>1</td>\n",
       "    </tr>\n",
       "    <tr>\n",
       "      <th>4</th>\n",
       "      <td>XRays/train/NORMAL/NORMAL2-IM-0453-0001.jpeg</td>\n",
       "      <td>1</td>\n",
       "    </tr>\n",
       "    <tr>\n",
       "      <th>5</th>\n",
       "      <td>XRays/train/PNEUMONIA/person30_bacteria_153.jpeg</td>\n",
       "      <td>0</td>\n",
       "    </tr>\n",
       "    <tr>\n",
       "      <th>6</th>\n",
       "      <td>XRays/train/PNEUMONIA/person541_bacteria_2275....</td>\n",
       "      <td>0</td>\n",
       "    </tr>\n",
       "    <tr>\n",
       "      <th>7</th>\n",
       "      <td>XRays/train/PNEUMONIA/person1129_bacteria_3070...</td>\n",
       "      <td>0</td>\n",
       "    </tr>\n",
       "    <tr>\n",
       "      <th>8</th>\n",
       "      <td>XRays/train/PNEUMONIA/person1030_virus_1722.jpeg</td>\n",
       "      <td>0</td>\n",
       "    </tr>\n",
       "    <tr>\n",
       "      <th>9</th>\n",
       "      <td>XRays/train/PNEUMONIA/person480_bacteria_2039....</td>\n",
       "      <td>0</td>\n",
       "    </tr>\n",
       "  </tbody>\n",
       "</table>\n",
       "</div>"
      ],
      "text/plain": [
       "                                              images  label\n",
       "0               XRays/train/NORMAL/IM-0697-0001.jpeg      1\n",
       "1       XRays/train/NORMAL/NORMAL2-IM-0875-0001.jpeg      1\n",
       "2  XRays/train/PNEUMONIA/person898_bacteria_2823....      0\n",
       "3       XRays/train/NORMAL/NORMAL2-IM-1401-0001.jpeg      1\n",
       "4       XRays/train/NORMAL/NORMAL2-IM-0453-0001.jpeg      1\n",
       "5   XRays/train/PNEUMONIA/person30_bacteria_153.jpeg      0\n",
       "6  XRays/train/PNEUMONIA/person541_bacteria_2275....      0\n",
       "7  XRays/train/PNEUMONIA/person1129_bacteria_3070...      0\n",
       "8   XRays/train/PNEUMONIA/person1030_virus_1722.jpeg      0\n",
       "9  XRays/train/PNEUMONIA/person480_bacteria_2039....      0"
      ]
     },
     "execution_count": 171,
     "metadata": {},
     "output_type": "execute_result"
    }
   ],
   "source": [
    "tdf = pd.DataFrame()\n",
    "tdf['images'] = TrainInputPath\n",
    "tdf['label'] = TrainLabel\n",
    "tdf = tdf.sample(frac=1).reset_index(drop=True)\n",
    "tdf.head(10)"
   ]
  },
  {
   "cell_type": "code",
   "execution_count": 172,
   "metadata": {},
   "outputs": [
    {
     "data": {
      "text/html": [
       "<div>\n",
       "<style scoped>\n",
       "    .dataframe tbody tr th:only-of-type {\n",
       "        vertical-align: middle;\n",
       "    }\n",
       "\n",
       "    .dataframe tbody tr th {\n",
       "        vertical-align: top;\n",
       "    }\n",
       "\n",
       "    .dataframe thead th {\n",
       "        text-align: right;\n",
       "    }\n",
       "</style>\n",
       "<table border=\"1\" class=\"dataframe\">\n",
       "  <thead>\n",
       "    <tr style=\"text-align: right;\">\n",
       "      <th></th>\n",
       "      <th>images</th>\n",
       "      <th>label</th>\n",
       "    </tr>\n",
       "  </thead>\n",
       "  <tbody>\n",
       "    <tr>\n",
       "      <th>0</th>\n",
       "      <td>XRays/val/PNEUMONIA/person100_bacteria_481.jpeg</td>\n",
       "      <td>0</td>\n",
       "    </tr>\n",
       "    <tr>\n",
       "      <th>1</th>\n",
       "      <td>XRays/val/NORMAL/IM-0101-0001.jpeg</td>\n",
       "      <td>1</td>\n",
       "    </tr>\n",
       "    <tr>\n",
       "      <th>2</th>\n",
       "      <td>XRays/val/NORMAL/NORMAL2-IM-0288-0001.jpeg</td>\n",
       "      <td>1</td>\n",
       "    </tr>\n",
       "    <tr>\n",
       "      <th>3</th>\n",
       "      <td>XRays/val/PNEUMONIA/person1615_virus_2801.jpeg</td>\n",
       "      <td>0</td>\n",
       "    </tr>\n",
       "    <tr>\n",
       "      <th>4</th>\n",
       "      <td>XRays/val/PNEUMONIA/person1619_virus_2806.jpeg</td>\n",
       "      <td>0</td>\n",
       "    </tr>\n",
       "    <tr>\n",
       "      <th>5</th>\n",
       "      <td>XRays/val/PNEUMONIA/person62_virus_119.jpeg</td>\n",
       "      <td>0</td>\n",
       "    </tr>\n",
       "    <tr>\n",
       "      <th>6</th>\n",
       "      <td>XRays/val/PNEUMONIA/person103_bacteria_489.jpeg</td>\n",
       "      <td>0</td>\n",
       "    </tr>\n",
       "    <tr>\n",
       "      <th>7</th>\n",
       "      <td>XRays/val/NORMAL/IM-0033-0001-0001.jpeg</td>\n",
       "      <td>1</td>\n",
       "    </tr>\n",
       "    <tr>\n",
       "      <th>8</th>\n",
       "      <td>XRays/val/PNEUMONIA/person1647_virus_2848.jpeg</td>\n",
       "      <td>0</td>\n",
       "    </tr>\n",
       "    <tr>\n",
       "      <th>9</th>\n",
       "      <td>XRays/val/PNEUMONIA/person153_bacteria_725.jpeg</td>\n",
       "      <td>0</td>\n",
       "    </tr>\n",
       "  </tbody>\n",
       "</table>\n",
       "</div>"
      ],
      "text/plain": [
       "                                            images  label\n",
       "0  XRays/val/PNEUMONIA/person100_bacteria_481.jpeg      0\n",
       "1               XRays/val/NORMAL/IM-0101-0001.jpeg      1\n",
       "2       XRays/val/NORMAL/NORMAL2-IM-0288-0001.jpeg      1\n",
       "3   XRays/val/PNEUMONIA/person1615_virus_2801.jpeg      0\n",
       "4   XRays/val/PNEUMONIA/person1619_virus_2806.jpeg      0\n",
       "5      XRays/val/PNEUMONIA/person62_virus_119.jpeg      0\n",
       "6  XRays/val/PNEUMONIA/person103_bacteria_489.jpeg      0\n",
       "7          XRays/val/NORMAL/IM-0033-0001-0001.jpeg      1\n",
       "8   XRays/val/PNEUMONIA/person1647_virus_2848.jpeg      0\n",
       "9  XRays/val/PNEUMONIA/person153_bacteria_725.jpeg      0"
      ]
     },
     "execution_count": 172,
     "metadata": {},
     "output_type": "execute_result"
    }
   ],
   "source": [
    "vdf = pd.DataFrame()\n",
    "vdf['images'] = ValInputPath\n",
    "vdf['label'] = ValLabel\n",
    "vdf = vdf.sample(frac=1).reset_index(drop=True)\n",
    "vdf.head(10)"
   ]
  },
  {
   "cell_type": "code",
   "execution_count": 173,
   "metadata": {},
   "outputs": [
    {
     "data": {
      "text/html": [
       "<div>\n",
       "<style scoped>\n",
       "    .dataframe tbody tr th:only-of-type {\n",
       "        vertical-align: middle;\n",
       "    }\n",
       "\n",
       "    .dataframe tbody tr th {\n",
       "        vertical-align: top;\n",
       "    }\n",
       "\n",
       "    .dataframe thead th {\n",
       "        text-align: right;\n",
       "    }\n",
       "</style>\n",
       "<table border=\"1\" class=\"dataframe\">\n",
       "  <thead>\n",
       "    <tr style=\"text-align: right;\">\n",
       "      <th></th>\n",
       "      <th>images</th>\n",
       "      <th>label</th>\n",
       "    </tr>\n",
       "  </thead>\n",
       "  <tbody>\n",
       "    <tr>\n",
       "      <th>0</th>\n",
       "      <td>XRays/test/PNEUMONIA/person1947_bacteria_4876....</td>\n",
       "      <td>0</td>\n",
       "    </tr>\n",
       "    <tr>\n",
       "      <th>1</th>\n",
       "      <td>XRays/test/NORMAL/NORMAL2-IM-1431-0001.jpeg</td>\n",
       "      <td>1</td>\n",
       "    </tr>\n",
       "    <tr>\n",
       "      <th>2</th>\n",
       "      <td>XRays/test/PNEUMONIA/person1946_bacteria_4875....</td>\n",
       "      <td>0</td>\n",
       "    </tr>\n",
       "    <tr>\n",
       "      <th>3</th>\n",
       "      <td>XRays/test/NORMAL/NORMAL2-IM-1427-0001.jpeg</td>\n",
       "      <td>1</td>\n",
       "    </tr>\n",
       "    <tr>\n",
       "      <th>4</th>\n",
       "      <td>XRays/test/PNEUMONIA/person1952_bacteria_4883....</td>\n",
       "      <td>0</td>\n",
       "    </tr>\n",
       "    <tr>\n",
       "      <th>5</th>\n",
       "      <td>XRays/test/NORMAL/NORMAL2-IM-1430-0001.jpeg</td>\n",
       "      <td>1</td>\n",
       "    </tr>\n",
       "    <tr>\n",
       "      <th>6</th>\n",
       "      <td>XRays/test/NORMAL/NORMAL2-IM-1438-0001.jpeg</td>\n",
       "      <td>1</td>\n",
       "    </tr>\n",
       "    <tr>\n",
       "      <th>7</th>\n",
       "      <td>XRays/test/NORMAL/NORMAL2-IM-1442-0001.jpeg</td>\n",
       "      <td>1</td>\n",
       "    </tr>\n",
       "    <tr>\n",
       "      <th>8</th>\n",
       "      <td>XRays/test/NORMAL/NORMAL2-IM-1436-0001.jpeg</td>\n",
       "      <td>1</td>\n",
       "    </tr>\n",
       "    <tr>\n",
       "      <th>9</th>\n",
       "      <td>XRays/test/PNEUMONIA/person1949_bacteria_4880....</td>\n",
       "      <td>0</td>\n",
       "    </tr>\n",
       "  </tbody>\n",
       "</table>\n",
       "</div>"
      ],
      "text/plain": [
       "                                              images  label\n",
       "0  XRays/test/PNEUMONIA/person1947_bacteria_4876....      0\n",
       "1        XRays/test/NORMAL/NORMAL2-IM-1431-0001.jpeg      1\n",
       "2  XRays/test/PNEUMONIA/person1946_bacteria_4875....      0\n",
       "3        XRays/test/NORMAL/NORMAL2-IM-1427-0001.jpeg      1\n",
       "4  XRays/test/PNEUMONIA/person1952_bacteria_4883....      0\n",
       "5        XRays/test/NORMAL/NORMAL2-IM-1430-0001.jpeg      1\n",
       "6        XRays/test/NORMAL/NORMAL2-IM-1438-0001.jpeg      1\n",
       "7        XRays/test/NORMAL/NORMAL2-IM-1442-0001.jpeg      1\n",
       "8        XRays/test/NORMAL/NORMAL2-IM-1436-0001.jpeg      1\n",
       "9  XRays/test/PNEUMONIA/person1949_bacteria_4880....      0"
      ]
     },
     "execution_count": 173,
     "metadata": {},
     "output_type": "execute_result"
    }
   ],
   "source": [
    "testdf = pd.DataFrame()\n",
    "testdf['images'] = TestInputPath\n",
    "testdf['label'] = TestLabel\n",
    "testdf = testdf.sample(frac=1).reset_index(drop=True)\n",
    "testdf.head(10)"
   ]
  },
  {
   "cell_type": "code",
   "execution_count": 174,
   "metadata": {},
   "outputs": [
    {
     "data": {
      "text/plain": [
       "<Axes: xlabel='label', ylabel='count'>"
      ]
     },
     "execution_count": 174,
     "metadata": {},
     "output_type": "execute_result"
    },
    {
     "data": {
      "image/png": "[encoded data removed]",
      "text/plain": [
       "<Figure size 640x480 with 1 Axes>"
      ]
     },
     "metadata": {},
     "output_type": "display_data"
    }
   ],
   "source": [
    "import seaborn as sns\n",
    "sns.countplot(data=tdf,x='label')"
   ]
  },
  {
   "cell_type": "code",
   "execution_count": 175,
   "metadata": {},
   "outputs": [],
   "source": [
    "tdf['label'] = tdf['label'].astype('str')\n",
    "vdf['label'] = vdf['label'].astype('str')\n",
    "testdf['label'] = testdf['label'].astype('str')"
   ]
  },
  {
   "cell_type": "code",
   "execution_count": 176,
   "metadata": {},
   "outputs": [
    {
     "name": "stdout",
     "output_type": "stream",
     "text": [
      "Found 5216 validated image filenames belonging to 2 classes.\n",
      "Found 624 validated image filenames belonging to 2 classes.\n"
     ]
    }
   ],
   "source": [
    "TrainGenerator = ImageDataGenerator(dtype = 'float32',\n",
    "    rescale = 1./255,  # normalization of images\n",
    "    rotation_range = 40, # augmention of images to avoid overfitting\n",
    "    shear_range = 0.2,\n",
    "    zoom_range = 0.2,\n",
    "    horizontal_flip = True,\n",
    "    vertical_flip=True,\n",
    "    fill_mode = 'nearest'\n",
    ")\n",
    "ValGenerator = ImageDataGenerator(dtype = 'float32',\n",
    "        rescale = 1./255)\n",
    "\n",
    "TrainIterator = TrainGenerator.flow_from_dataframe(\n",
    "    tdf, \n",
    "    x_col='images', \n",
    "    y_col='label', \n",
    "    target_size=(32,32), \n",
    "    batch_size=8, \n",
    "    class_mode='binary'\n",
    ")\n",
    "ValIterator = ValGenerator.flow_from_dataframe(\n",
    "    vdf, \n",
    "    x_col='images', \n",
    "    y_col='label', \n",
    "    target_size=(32,32), \n",
    "    batch_size=8, \n",
    "    class_mode='binary'\n",
    ")"
   ]
  },
  {
   "cell_type": "code",
   "execution_count": 177,
   "metadata": {},
   "outputs": [
    {
     "name": "stdout",
     "output_type": "stream",
     "text": [
      "Model: \"sequential_11\"\n",
      "_________________________________________________________________\n",
      " Layer (type)                Output Shape              Param #   \n",
      "=================================================================\n",
      " conv2d_22 (Conv2D)          (None, 28, 28, 128)       9728      \n",
      "                                                                 \n",
      " max_pooling2d_22 (MaxPooli  (None, 14, 14, 128)       0         \n",
      " ng2D)                                                           \n",
      "                                                                 \n",
      " conv2d_23 (Conv2D)          (None, 12, 12, 256)       295168    \n",
      "                                                                 \n",
      " max_pooling2d_23 (MaxPooli  (None, 6, 6, 256)         0         \n",
      " ng2D)                                                           \n",
      "                                                                 \n",
      " flatten_11 (Flatten)        (None, 9216)              0         \n",
      "                                                                 \n",
      " dense_28 (Dense)            (None, 512)               4719104   \n",
      "                                                                 \n",
      " dropout_17 (Dropout)        (None, 512)               0         \n",
      "                                                                 \n",
      " dense_29 (Dense)            (None, 256)               131328    \n",
      "                                                                 \n",
      " dropout_18 (Dropout)        (None, 256)               0         \n",
      "                                                                 \n",
      " dense_30 (Dense)            (None, 1)                 257       \n",
      "                                                                 \n",
      "=================================================================\n",
      "Total params: 5155585 (19.67 MB)\n",
      "Trainable params: 5155585 (19.67 MB)\n",
      "Non-trainable params: 0 (0.00 Byte)\n",
      "_________________________________________________________________\n"
     ]
    }
   ],
   "source": [
    "model = Sequential()\n",
    "model.add(Conv2D(128,(5,5),input_shape = (32,32,3),activation=\"relu\"))\n",
    "model.add(MaxPool2D())\n",
    "\n",
    "model.add(Conv2D(256,(3,3),activation=\"relu\"))\n",
    "model.add(MaxPool2D())\n",
    "\n",
    "model.add(Flatten())\n",
    "model.add(Dense(512,activation=\"relu\"))\n",
    "model.add(Dropout(0.5))\n",
    "model.add(Dense(256,activation=\"relu\"))\n",
    "model.add(Dropout(0.3))\n",
    "model.add(Dense(1, activation='sigmoid')) # output\n",
    "model.summary()"
   ]
  },
  {
   "cell_type": "code",
   "execution_count": 178,
   "metadata": {},
   "outputs": [],
   "source": [
    "model.compile(\n",
    "    optimizer=Adam(learning_rate=0.0001),\n",
    "    loss='binary_crossentropy',\n",
    "    metrics=['binary_accuracy'],\n",
    ")"
   ]
  },
  {
   "cell_type": "code",
   "execution_count": 179,
   "metadata": {},
   "outputs": [
    {
     "name": "stdout",
     "output_type": "stream",
     "text": [
      "Epoch 1/20\n",
      "652/652 [==============================] - 100s 146ms/step - loss: 0.4693 - binary_accuracy: 0.7864 - val_loss: 0.4036 - val_binary_accuracy: 0.8301\n",
      "Epoch 2/20\n",
      "652/652 [==============================] - 86s 132ms/step - loss: 0.3187 - binary_accuracy: 0.8602 - val_loss: 0.3409 - val_binary_accuracy: 0.8574\n",
      "Epoch 3/20\n",
      "652/652 [==============================] - 86s 131ms/step - loss: 0.2838 - binary_accuracy: 0.8786 - val_loss: 0.4107 - val_binary_accuracy: 0.7997\n",
      "Epoch 4/20\n",
      "652/652 [==============================] - 89s 137ms/step - loss: 0.2619 - binary_accuracy: 0.8877 - val_loss: 0.3508 - val_binary_accuracy: 0.8494\n",
      "Epoch 5/20\n",
      "652/652 [==============================] - 93s 142ms/step - loss: 0.2508 - binary_accuracy: 0.8923 - val_loss: 0.3114 - val_binary_accuracy: 0.8798\n",
      "Epoch 6/20\n",
      "652/652 [==============================] - 90s 135ms/step - loss: 0.2391 - binary_accuracy: 0.8982 - val_loss: 0.3582 - val_binary_accuracy: 0.8574\n",
      "Epoch 7/20\n",
      "652/652 [==============================] - 92s 140ms/step - loss: 0.2270 - binary_accuracy: 0.9057 - val_loss: 0.3245 - val_binary_accuracy: 0.8766\n",
      "Epoch 8/20\n",
      "652/652 [==============================] - 95s 146ms/step - loss: 0.2192 - binary_accuracy: 0.9093 - val_loss: 0.2843 - val_binary_accuracy: 0.8814\n",
      "Epoch 9/20\n",
      "652/652 [==============================] - 91s 140ms/step - loss: 0.2011 - binary_accuracy: 0.9191 - val_loss: 0.2960 - val_binary_accuracy: 0.8622\n",
      "Epoch 10/20\n",
      "652/652 [==============================] - 94s 144ms/step - loss: 0.2037 - binary_accuracy: 0.9181 - val_loss: 0.3001 - val_binary_accuracy: 0.8846\n",
      "Epoch 11/20\n",
      "652/652 [==============================] - 91s 139ms/step - loss: 0.1852 - binary_accuracy: 0.9218 - val_loss: 0.2989 - val_binary_accuracy: 0.8814\n",
      "Epoch 12/20\n",
      "652/652 [==============================] - 90s 138ms/step - loss: 0.1987 - binary_accuracy: 0.9199 - val_loss: 0.2574 - val_binary_accuracy: 0.8974\n",
      "Epoch 13/20\n",
      "652/652 [==============================] - 99s 151ms/step - loss: 0.1862 - binary_accuracy: 0.9270 - val_loss: 0.2808 - val_binary_accuracy: 0.8622\n",
      "Epoch 14/20\n",
      "652/652 [==============================] - 118s 181ms/step - loss: 0.1769 - binary_accuracy: 0.9293 - val_loss: 0.2850 - val_binary_accuracy: 0.8926\n",
      "Epoch 15/20\n",
      "652/652 [==============================] - 88s 136ms/step - loss: 0.1850 - binary_accuracy: 0.9256 - val_loss: 0.2739 - val_binary_accuracy: 0.8974\n",
      "Epoch 16/20\n",
      "652/652 [==============================] - 120s 183ms/step - loss: 0.1713 - binary_accuracy: 0.9329 - val_loss: 0.2569 - val_binary_accuracy: 0.8974\n",
      "Epoch 17/20\n",
      "652/652 [==============================] - 83s 126ms/step - loss: 0.1700 - binary_accuracy: 0.9316 - val_loss: 0.3875 - val_binary_accuracy: 0.8093\n",
      "Epoch 18/20\n",
      "652/652 [==============================] - 82s 125ms/step - loss: 0.1614 - binary_accuracy: 0.9379 - val_loss: 0.2703 - val_binary_accuracy: 0.9038\n",
      "Epoch 19/20\n",
      "652/652 [==============================] - 81s 124ms/step - loss: 0.1601 - binary_accuracy: 0.9360 - val_loss: 0.2588 - val_binary_accuracy: 0.9038\n",
      "Epoch 20/20\n",
      "652/652 [==============================] - 83s 127ms/step - loss: 0.1585 - binary_accuracy: 0.9363 - val_loss: 0.2438 - val_binary_accuracy: 0.9054\n"
     ]
    }
   ],
   "source": [
    "history = model.fit(\n",
    "    TrainIterator,\n",
    "    validation_data=ValIterator,\n",
    "    epochs=20,\n",
    ")"
   ]
  },
  {
   "cell_type": "code",
   "execution_count": 180,
   "metadata": {},
   "outputs": [
    {
     "name": "stdout",
     "output_type": "stream",
     "text": [
      "[0.7864263653755188, 0.860237717628479, 0.8786426186561584, 0.8876533508300781, 0.8922545909881592, 0.8981978297233582, 0.9056748747825623, 0.9093174934387207, 0.9190950989723206, 0.918136477470398, 0.9217791557312012, 0.9198619723320007, 0.92695552110672, 0.9292561411857605, 0.925613522529602, 0.932898759841919, 0.931556761264801, 0.9378834366798401, 0.9359662532806396, 0.9363496899604797]\n",
      "[0.8301281929016113, 0.8573718070983887, 0.7996794581413269, 0.8493589758872986, 0.879807710647583, 0.8573718070983887, 0.8766025900840759, 0.8814102411270142, 0.8621794581413269, 0.8846153616905212, 0.8814102411270142, 0.8974359035491943, 0.8621794581413269, 0.8926281929016113, 0.8974359035491943, 0.8974359035491943, 0.8092948794364929, 0.9038461446762085, 0.9038461446762085, 0.9054487347602844]\n"
     ]
    }
   ],
   "source": [
    "acc = history.history['binary_accuracy']\n",
    "val_acc = history.history['val_binary_accuracy']\n",
    "epochs = range(len(acc))\n",
    "print(acc)\n",
    "print(val_acc)"
   ]
  },
  {
   "cell_type": "code",
   "execution_count": 190,
   "metadata": {},
   "outputs": [
    {
     "name": "stderr",
     "output_type": "stream",
     "text": [
      "/home/abdulrahman/anaconda3/lib/python3.11/site-packages/keras/src/engine/training.py:3103: UserWarning: You are saving your model as an HDF5 file via `model.save()`. This file format is considered legacy. We recommend using instead the native Keras format, e.g. `model.save('my_model.keras')`.\n",
      "  saving_api.save_model(\n"
     ]
    }
   ],
   "source": [
    "model.save(\"m1.h5\")\n",
    "model.save(\"m1.keras\")"
   ]
  },
  {
   "cell_type": "code",
   "execution_count": 185,
   "metadata": {},
   "outputs": [
    {
     "name": "stdout",
     "output_type": "stream",
     "text": [
      "Found 16 validated image filenames belonging to 2 classes.\n"
     ]
    },
    {
     "name": "stderr",
     "output_type": "stream",
     "text": [
      "/tmp/ipykernel_39370/3456863816.py:15: UserWarning: `Model.predict_generator` is deprecated and will be removed in a future version. Please use `Model.predict`, which supports generators.\n",
      "  Y_pred = model.predict_generator(TestIterator)\n"
     ]
    },
    {
     "name": "stdout",
     "output_type": "stream",
     "text": [
      "Confusion Matrix\n",
      "[[8 0]\n",
      " [8 0]]\n",
      "Classification Report\n",
      "              precision    recall  f1-score   support\n",
      "\n",
      "   PNEUMONIA       0.50      1.00      0.67         8\n",
      "      NORMAL       0.00      0.00      0.00         8\n",
      "\n",
      "    accuracy                           0.50        16\n",
      "   macro avg       0.25      0.50      0.33        16\n",
      "weighted avg       0.25      0.50      0.33        16\n",
      "\n"
     ]
    },
    {
     "name": "stderr",
     "output_type": "stream",
     "text": [
      "/home/abdulrahman/anaconda3/lib/python3.11/site-packages/sklearn/metrics/_classification.py:1509: UndefinedMetricWarning: Precision is ill-defined and being set to 0.0 in labels with no predicted samples. Use `zero_division` parameter to control this behavior.\n",
      "  _warn_prf(average, modifier, f\"{metric.capitalize()} is\", len(result))\n",
      "/home/abdulrahman/anaconda3/lib/python3.11/site-packages/sklearn/metrics/_classification.py:1509: UndefinedMetricWarning: Precision is ill-defined and being set to 0.0 in labels with no predicted samples. Use `zero_division` parameter to control this behavior.\n",
      "  _warn_prf(average, modifier, f\"{metric.capitalize()} is\", len(result))\n",
      "/home/abdulrahman/anaconda3/lib/python3.11/site-packages/sklearn/metrics/_classification.py:1509: UndefinedMetricWarning: Precision is ill-defined and being set to 0.0 in labels with no predicted samples. Use `zero_division` parameter to control this behavior.\n",
      "  _warn_prf(average, modifier, f\"{metric.capitalize()} is\", len(result))\n"
     ]
    }
   ],
   "source": [
    "from sklearn.metrics import classification_report\n",
    "from sklearn.metrics import confusion_matrix,ConfusionMatrixDisplay\n",
    "\n",
    "TestGenerator = ImageDataGenerator(dtype = 'float32')\n",
    "\n",
    "TestIterator = TestGenerator.flow_from_dataframe(\n",
    "    testdf, \n",
    "    x_col='images', \n",
    "    y_col='label', \n",
    "    target_size=(32,32), \n",
    "    batch_size=8, \n",
    "    class_mode='binary'\n",
    ")\n",
    "\n",
    "Y_pred = model.predict_generator(TestIterator)\n",
    "y_pred = np.argmax(Y_pred, axis=1)\n",
    "\n",
    "print('Confusion Matrix')\n",
    "print(confusion_matrix(TestIterator.classes, y_pred))\n",
    "\n",
    "print('Classification Report')\n",
    "target_names = ['PNEUMONIA', 'NORMAL']\n",
    "print(classification_report(TestIterator.classes, y_pred, target_names=target_names))"
   ]
  },
  {
   "cell_type": "code",
   "execution_count": 186,
   "metadata": {},
   "outputs": [
    {
     "data": {
      "text/plain": [
       "[0, 1, 0, 1, 0, 1, 1, 1, 1, 0, 1, 0, 0, 0, 1, 0]"
      ]
     },
     "execution_count": 186,
     "metadata": {},
     "output_type": "execute_result"
    }
   ],
   "source": [
    "TestIterator.classes"
   ]
  },
  {
   "cell_type": "code",
   "execution_count": 189,
   "metadata": {},
   "outputs": [
    {
     "data": {
      "text/plain": [
       "<sklearn.metrics._plot.confusion_matrix.ConfusionMatrixDisplay at 0x7fb404554850>"
      ]
     },
     "execution_count": 189,
     "metadata": {},
     "output_type": "execute_result"
    },
    {
     "data": {
      "image/png": "[encoded data removed]",
      "text/plain": [
       "<Figure size 640x480 with 2 Axes>"
      ]
     },
     "metadata": {},
     "output_type": "display_data"
    }
   ],
   "source": [
    "cm = confusion_matrix(TestIterator.classes, y_pred, labels=[0,1])\n",
    "disp = ConfusionMatrixDisplay(confusion_matrix=cm,\n",
    "                              display_labels=['NORMAL', 'PNEUMONIA'])\n",
    "disp.plot()"
   ]
  }
 ],
 "metadata": {
  "kernelspec": {
   "display_name": "base",
   "language": "python",
   "name": "python3"
  },
  "language_info": {
   "codemirror_mode": {
    "name": "ipython",
    "version": 3
   },
   "file_extension": ".py",
   "mimetype": "text/x-python",
   "name": "python",
   "nbconvert_exporter": "python",
   "pygments_lexer": "ipython3",
   "version": "3.11.5"
  }
 },
 "nbformat": 4,
 "nbformat_minor": 2
}
